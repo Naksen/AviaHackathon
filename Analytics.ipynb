{
 "cells": [
  {
   "cell_type": "code",
   "execution_count": 2,
   "id": "b8ad7789-b833-4674-b4d6-c01f3326d455",
   "metadata": {},
   "outputs": [],
   "source": [
    "import pandas as pd\n",
    "import matplotlib.pyplot as plt\n",
    "import seaborn as sns\n",
    "import os"
   ]
  },
  {
   "cell_type": "code",
   "execution_count": 3,
   "id": "a6871a75-1726-4f3a-ac98-37bf328d0732",
   "metadata": {},
   "outputs": [],
   "source": [
    "file_path = \"reviews.csv\"\n",
    "if not os.path.exists(file_path):\n",
    "    raise FileNotFoundError(f\"The file {file_path} does not exist.\")"
   ]
  },
  {
   "cell_type": "code",
   "execution_count": 4,
   "id": "4871a7bb-fec4-4468-83f6-f1ba0ce6f78d",
   "metadata": {},
   "outputs": [
    {
     "data": {
      "text/html": [
       "<div>\n",
       "<style scoped>\n",
       "    .dataframe tbody tr th:only-of-type {\n",
       "        vertical-align: middle;\n",
       "    }\n",
       "\n",
       "    .dataframe tbody tr th {\n",
       "        vertical-align: top;\n",
       "    }\n",
       "\n",
       "    .dataframe thead th {\n",
       "        text-align: right;\n",
       "    }\n",
       "</style>\n",
       "<table border=\"1\" class=\"dataframe\">\n",
       "  <thead>\n",
       "    <tr style=\"text-align: right;\">\n",
       "      <th></th>\n",
       "      <th>title</th>\n",
       "      <th>link</th>\n",
       "      <th>rating</th>\n",
       "      <th>text</th>\n",
       "      <th>date</th>\n",
       "    </tr>\n",
       "  </thead>\n",
       "  <tbody>\n",
       "    <tr>\n",
       "      <th>0</th>\n",
       "      <td>Консультация в чате банка по акции «мой суперп...</td>\n",
       "      <td>https://www.banki.ru/services/responses/bank/r...</td>\n",
       "      <td>5</td>\n",
       "      <td>Добрый день. Недавно узнал, что в Промсвязьбан...</td>\n",
       "      <td>18.12.2024 14:28</td>\n",
       "    </tr>\n",
       "    <tr>\n",
       "      <th>1</th>\n",
       "      <td>Оформление счета</td>\n",
       "      <td>https://www.banki.ru/services/responses/bank/r...</td>\n",
       "      <td>5</td>\n",
       "      <td>Добрый день! 12 декабря обращался в офис ПСБ п...</td>\n",
       "      <td>14.12.2024 15:49</td>\n",
       "    </tr>\n",
       "    <tr>\n",
       "      <th>2</th>\n",
       "      <td>Благодарность управляющему офиса</td>\n",
       "      <td>https://www.banki.ru/services/responses/bank/r...</td>\n",
       "      <td>5</td>\n",
       "      <td>Добрый день!           \\r\\n    Хочу выразить и...</td>\n",
       "      <td>13.12.2024 15:12</td>\n",
       "    </tr>\n",
       "    <tr>\n",
       "      <th>3</th>\n",
       "      <td>Предоставили подробности в чате</td>\n",
       "      <td>https://www.banki.ru/services/responses/bank/r...</td>\n",
       "      <td>5</td>\n",
       "      <td>Я слышала, что за пополнение металлического сч...</td>\n",
       "      <td>12.12.2024 16:31</td>\n",
       "    </tr>\n",
       "    <tr>\n",
       "      <th>4</th>\n",
       "      <td>Понятные условия по продуктам промсвязьбанка, ...</td>\n",
       "      <td>https://www.banki.ru/services/responses/bank/r...</td>\n",
       "      <td>5</td>\n",
       "      <td>Шел после работы вечером 01.11.24  г., обратил...</td>\n",
       "      <td>12.12.2024 14:15</td>\n",
       "    </tr>\n",
       "  </tbody>\n",
       "</table>\n",
       "</div>"
      ],
      "text/plain": [
       "                                               title  \\\n",
       "0  Консультация в чате банка по акции «мой суперп...   \n",
       "1                                   Оформление счета   \n",
       "2                   Благодарность управляющему офиса   \n",
       "3                    Предоставили подробности в чате   \n",
       "4  Понятные условия по продуктам промсвязьбанка, ...   \n",
       "\n",
       "                                                link rating  \\\n",
       "0  https://www.banki.ru/services/responses/bank/r...      5   \n",
       "1  https://www.banki.ru/services/responses/bank/r...      5   \n",
       "2  https://www.banki.ru/services/responses/bank/r...      5   \n",
       "3  https://www.banki.ru/services/responses/bank/r...      5   \n",
       "4  https://www.banki.ru/services/responses/bank/r...      5   \n",
       "\n",
       "                                                text              date  \n",
       "0  Добрый день. Недавно узнал, что в Промсвязьбан...  18.12.2024 14:28  \n",
       "1  Добрый день! 12 декабря обращался в офис ПСБ п...  14.12.2024 15:49  \n",
       "2  Добрый день!           \\r\\n    Хочу выразить и...  13.12.2024 15:12  \n",
       "3  Я слышала, что за пополнение металлического сч...  12.12.2024 16:31  \n",
       "4  Шел после работы вечером 01.11.24  г., обратил...  12.12.2024 14:15  "
      ]
     },
     "execution_count": 4,
     "metadata": {},
     "output_type": "execute_result"
    }
   ],
   "source": [
    "data = pd.read_csv(file_path)\n",
    "\n",
    "# Preview data\n",
    "data.head()"
   ]
  }
 ],
 "metadata": {
  "kernelspec": {
   "display_name": "Python 3 (ipykernel)",
   "language": "python",
   "name": "python3"
  },
  "language_info": {
   "codemirror_mode": {
    "name": "ipython",
    "version": 3
   },
   "file_extension": ".py",
   "mimetype": "text/x-python",
   "name": "python",
   "nbconvert_exporter": "python",
   "pygments_lexer": "ipython3",
   "version": "3.12.6"
  }
 },
 "nbformat": 4,
 "nbformat_minor": 5
}
